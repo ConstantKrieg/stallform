{
 "cells": [
  {
   "cell_type": "code",
   "execution_count": null,
   "metadata": {},
   "outputs": [],
   "source": [
    "from datetime import date\n",
    "\n",
    "from app.service.horse_performance_service import fetch_cards_for_date, fetch_races_for_card, fetch_horses_for_future_race\n",
    "from app.service.coach_service import analyze_coach\n",
    "from app.service.horse_service import normalize_prev_starts, calculate_horses_money_for_race, init_scalars, calculate_horse_win_with_shoes, calculate_horse_win\n",
    "\n",
    "\n",
    "def get_todays_horses():\n",
    "    cards = fetch_cards_for_date(date.today())\n",
    "    init_scalars()\n",
    "\n",
    "    card_list = []\n",
    "\n",
    "    cards = list(filter(lambda c: c['country'] == 'SE', cards))\n",
    "\n",
    "    for card in cards:\n",
    "        races = fetch_races_for_card(card)\n",
    "        card['races'] = [_handle_race(race, card['trackAbbreviation']) for race in races]\n",
    "        card_list.append(card)    \n",
    "    return card_list\n",
    "            \n",
    "            \n",
    "def _handle_race(race, track):\n",
    "    print('race %d...' % race['number'])\n",
    "    race_dict = {}\n",
    "    race_dict.update(race) \n",
    "    horses = fetch_horses_for_future_race(race)\n",
    "    race_dict['horses'] = [_handle_horse(horse, track) for horse in horses]\n",
    "\n",
    "    return race_dict\n",
    "                \n",
    "                \n",
    "def _handle_horse(horse, track):\n",
    "    horse_dict = analyze_coach(horse['coach_name'], horse['driver_name'], track, date.today().month, date.today().day)\n",
    "    horse_dict.update(calculate_horses_money_for_race(horse))\n",
    "    horse_dict.update(horse)\n",
    "    horse_dict['normalized_times'] = normalize_prev_starts(horse)\n",
    "    horse_dict['horse_win_rate_with_shoes'] = calculate_horse_win_with_shoes(horse)\n",
    "    horse_dict['horse_win_rate'] = calculate_horse_win(horse)\n",
    "\n",
    "    del horse_dict['prev_starts']\n",
    "    del horse_dict['stats']\n",
    "\n",
    "    return horse_dict\n",
    "\n",
    "\n",
    "def _predict_horse_win(horse_dict):\n",
    "    "
   ]
  }
 ],
 "metadata": {
  "kernelspec": {
   "display_name": "Python 3",
   "language": "python",
   "name": "python3"
  },
  "language_info": {
   "codemirror_mode": {
    "name": "ipython",
    "version": 3
   },
   "file_extension": ".py",
   "mimetype": "text/x-python",
   "name": "python",
   "nbconvert_exporter": "python",
   "pygments_lexer": "ipython3",
   "version": "3.7.5"
  }
 },
 "nbformat": 4,
 "nbformat_minor": 2
}
